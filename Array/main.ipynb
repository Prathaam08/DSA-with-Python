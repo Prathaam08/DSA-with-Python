{
 "cells": [
  {
   "cell_type": "markdown",
   "id": "1af655f3",
   "metadata": {},
   "source": [
    "#### Reverse a string"
   ]
  },
  {
   "cell_type": "code",
   "execution_count": 5,
   "id": "294c1e8e",
   "metadata": {},
   "outputs": [
    {
     "name": "stdout",
     "output_type": "stream",
     "text": [
      "mahtarp\n"
     ]
    }
   ],
   "source": [
    "def reverse(s):\n",
    "    return s[::-1]\n",
    "print(reverse(\"pratham\"))"
   ]
  },
  {
   "cell_type": "markdown",
   "id": "c5c1f8a5",
   "metadata": {},
   "source": [
    "#### Missing number in array"
   ]
  },
  {
   "cell_type": "code",
   "execution_count": null,
   "id": "263fda0a",
   "metadata": {},
   "outputs": [
    {
     "name": "stdout",
     "output_type": "stream",
     "text": [
      "4\n"
     ]
    }
   ],
   "source": [
    "def missing_num(arr):\n",
    "    n = len(arr) + 1\n",
    "    total_sum = n*(n+1) // 2\n",
    "    actual_sum = sum(arr)\n",
    "    return total_sum - actual_sum\n",
    "print(missing_num([1,2,3,5,6,7,8]))\n",
    "\n",
    "# Time complexity: O(n) → one pass to calculate sum(arr)\n",
    "# Space complexity: O(1) → we only store a few variables"
   ]
  },
  {
   "cell_type": "markdown",
   "id": "d65fb0e7",
   "metadata": {},
   "source": [
    "#### Second Largest number in array"
   ]
  },
  {
   "cell_type": "code",
   "execution_count": 16,
   "id": "50d1dc16",
   "metadata": {},
   "outputs": [
    {
     "name": "stdout",
     "output_type": "stream",
     "text": [
      "21\n"
     ]
    }
   ],
   "source": [
    "def second_largest(arr):\n",
    "    n = len(arr)\n",
    "    if n < 2:\n",
    "        return None\n",
    "    first = second = float('-inf')\n",
    "    for num in arr:\n",
    "        if num > first:\n",
    "            second = first\n",
    "            first = num \n",
    "        elif first > num > second:\n",
    "            second = num \n",
    "    return second if second != float('-inf') else None\n",
    "print(second_largest([1,2,33,2,21]))"
   ]
  },
  {
   "cell_type": "markdown",
   "id": "ecb3677f",
   "metadata": {},
   "source": [
    "#### Remove Duplicates in Array"
   ]
  },
  {
   "cell_type": "code",
   "execution_count": null,
   "id": "95ba069c",
   "metadata": {},
   "outputs": [
    {
     "name": "stdout",
     "output_type": "stream",
     "text": [
      "unique elements: 4\n",
      "modified array : [1, 2, 3, 4]\n"
     ]
    }
   ],
   "source": [
    "def duplicates(arr):\n",
    "    n = len(arr)\n",
    "    if n < 2:\n",
    "        return n\n",
    "    i = 0\n",
    "    j = i+1\n",
    "    while j<n:\n",
    "        if arr[j] != arr[i]:\n",
    "            i = i + 1\n",
    "            arr[i] = arr[j]\n",
    "        j += 1\n",
    "    return i + 1\n",
    "    \n",
    "arr = [1,1,1,2,3,4,4]\n",
    "length = duplicates(arr)\n",
    "print('unique elements:',length)\n",
    "print('modified array :',arr[:length])\n",
    "\n",
    "# Time: O(n) (single pass)\n",
    "# Space: O(1) (in-place)\n"
   ]
  },
  {
   "cell_type": "markdown",
   "id": "f3f91715",
   "metadata": {},
   "source": [
    "#### Merge two Sorted Array"
   ]
  },
  {
   "cell_type": "code",
   "execution_count": 2,
   "id": "f52bb842",
   "metadata": {},
   "outputs": [
    {
     "name": "stdout",
     "output_type": "stream",
     "text": [
      "[1, 2, 3, 4, 5, 6, 7, 8]\n"
     ]
    }
   ],
   "source": [
    "def merge_arr(arr1 , arr2):\n",
    "    n1 = len(arr1)\n",
    "    n2 = len(arr2)\n",
    "    merged = []\n",
    "    \n",
    "    i = j = 0\n",
    "    while i < n1 and j < n2:\n",
    "        if arr1[i] <= arr2[j]:\n",
    "            merged.append(arr1[i])\n",
    "            i += 1\n",
    "        else:\n",
    "            merged.append(arr2[j])\n",
    "            j += 1\n",
    "\n",
    "    while i < n1:\n",
    "        merged.append(arr1[i])\n",
    "        i += 1\n",
    "    while j < n2:\n",
    "        merged.append(arr2[j])\n",
    "        j += 1\n",
    "\n",
    "    return merged\n",
    "    \n",
    "arr1 = [1,2,3,4,5]\n",
    "arr2 = [6,7,8]\n",
    "\n",
    "print(merge_arr(arr1,arr2))\n",
    "\n",
    "# Time Complexity: O(n1 + n2)\n",
    "# Space Complexity: O(n1 + n2) (new merged array). "
   ]
  },
  {
   "cell_type": "markdown",
   "id": "cbdfc070",
   "metadata": {},
   "source": [
    "####  Array elements sum"
   ]
  },
  {
   "cell_type": "code",
   "execution_count": null,
   "id": "9bb1144b",
   "metadata": {},
   "outputs": [
    {
     "name": "stdout",
     "output_type": "stream",
     "text": [
      "21\n"
     ]
    }
   ],
   "source": [
    "def element_sum(arr):\n",
    "    total = 0\n",
    "    for num in arr:\n",
    "        total = total + num \n",
    "    return total\n",
    "print(element_sum([1,2,3,4,5,6]))\n",
    "\n",
    "# Time Complexity: O(n) → Optimal, since you have to touch each element once.\n",
    "# Space Complexity: O(1) → No extra space except one variable."
   ]
  },
  {
   "cell_type": "markdown",
   "id": "f71bf79e",
   "metadata": {},
   "source": [
    "#### Rotate array by k places"
   ]
  },
  {
   "cell_type": "code",
   "execution_count": 45,
   "id": "82eb1a67",
   "metadata": {},
   "outputs": [
    {
     "name": "stdout",
     "output_type": "stream",
     "text": [
      "[3, 4, 5, 10, 1, 2]\n"
     ]
    }
   ],
   "source": [
    "def rotate(arr):\n",
    "    n = len(arr)\n",
    "    position = 4\n",
    "    rotation = position % n\n",
    "    arr[:] = arr[n-rotation:] + arr[:n-rotation]\n",
    "\n",
    "arr = [1,2,3,4,5,10]\n",
    "rotate(arr)\n",
    "print(arr)\n",
    "\n",
    "# TC : 0(n)\n",
    "# SC : 0(1)"
   ]
  },
  {
   "cell_type": "markdown",
   "id": "b976ab1d",
   "metadata": {},
   "source": [
    "#### Sort array of 0s, 1s, 2s (Sort Colors or Dutch National Flag Problem.)"
   ]
  },
  {
   "cell_type": "code",
   "execution_count": null,
   "id": "e06a2ce1",
   "metadata": {},
   "outputs": [
    {
     "name": "stdout",
     "output_type": "stream",
     "text": [
      "[0, 1, 1, 1, 1, 1, 2, 2, 2, 2]\n"
     ]
    }
   ],
   "source": [
    "def sort_0_1_2(arr):\n",
    "    low , mid , high = 0 , 0 , len(arr)-1\n",
    "\n",
    "    while mid <= high:\n",
    "        if arr[mid] == 0:\n",
    "            arr[low] , arr[mid] = arr[mid] , arr[low]\n",
    "            low += 1\n",
    "            mid += 1\n",
    "        elif arr[mid] == 1:\n",
    "            mid += 1\n",
    "        else:\n",
    "            arr[mid] , arr[high] = arr[high] , arr[mid]\n",
    "            high -= 1\n",
    "\n",
    "arr = [2,0,1,2,1,1,2,1,2,1]\n",
    "sort_0_1_2(arr)\n",
    "print(arr)\n",
    "\n",
    "# Time Complexity : O(n) → Every element is visited at most once.\n",
    "# Space Complexity : O(1) → Sorting is done in place."
   ]
  },
  {
   "cell_type": "markdown",
   "id": "4b45c55a",
   "metadata": {},
   "source": [
    "#### Rearrange array in zigzag"
   ]
  },
  {
   "cell_type": "code",
   "execution_count": null,
   "id": "bad2a9b5",
   "metadata": {},
   "outputs": [
    {
     "name": "stdout",
     "output_type": "stream",
     "text": [
      "[3, 7, 4, 8, 2, 6, 1, 9]\n"
     ]
    }
   ],
   "source": [
    "def zigzag(arr):\n",
    "    n = len(arr)\n",
    "    flag = True  # True means '<', False means '>'\n",
    "\n",
    "    for i in range(n-1):\n",
    "        if flag:\n",
    "            if arr[i] > arr[i+1]:\n",
    "                arr[i] , arr[i+1] = arr[i+1] , arr[i]\n",
    "        else:\n",
    "            if arr[i] < arr[i+1]:\n",
    "                arr[i] , arr[i+1] = arr[i+1] , arr[i]\n",
    "        flag = not flag\n",
    "\n",
    "arr = [4, 3, 7, 8, 6, 2, 1 ,9]\n",
    "zigzag(arr)\n",
    "print(arr)\n",
    "\n",
    "# TC : 0(n)\n",
    "# SC : 0(1)"
   ]
  },
  {
   "cell_type": "markdown",
   "id": "a0cb7983",
   "metadata": {},
   "source": [
    "#### Maximum subarray sum (Kadane Algorithm)"
   ]
  },
  {
   "cell_type": "code",
   "execution_count": null,
   "id": "9dafbd86",
   "metadata": {},
   "outputs": [
    {
     "name": "stdout",
     "output_type": "stream",
     "text": [
      "6\n"
     ]
    }
   ],
   "source": [
    "def max_subarray_sum(arr):\n",
    "    max_sum = arr[0]\n",
    "    current_sum = arr[0]\n",
    "\n",
    "    for i in range(1 , len(arr)):\n",
    "        current_sum = max(arr[i] , current_sum + arr[i])\n",
    "        max_sum = max(max_sum , current_sum)\n",
    "    return max_sum  \n",
    "\n",
    "arr = [-2, 1, -3, 4, -1, 2, 1, -5, 4]\n",
    "print(max_subarray_sum(arr))\n"
   ]
  },
  {
   "cell_type": "markdown",
   "id": "54b3683f",
   "metadata": {},
   "source": [
    "#### Largest sum contiguous subarray (same as kandane algo but with actual subarray)"
   ]
  },
  {
   "cell_type": "code",
   "execution_count": null,
   "id": "f350c1df",
   "metadata": {},
   "outputs": [
    {
     "name": "stdout",
     "output_type": "stream",
     "text": [
      "Max Sum: 6\n",
      "Subarray: [4, -1, 2, 1]\n"
     ]
    }
   ],
   "source": [
    "def largest_sum_subarray(arr):\n",
    "    max_sum = current_sum = arr[0]\n",
    "    start = end = temp_start = 0\n",
    "\n",
    "    for i in range(1 , len(arr)):\n",
    "        current_sum = max(arr[i] , current_sum + arr[i])\n",
    "        if current_sum == arr[i]:\n",
    "            temp_start = i\n",
    "        if current_sum > max_sum:\n",
    "            max_sum = current_sum\n",
    "            start , end = temp_start , i\n",
    "    return max_sum , arr[start:end+1]\n",
    "\n",
    "arr = [-2, 1, -3, 4, -1, 2, 1, -5, 4]\n",
    "max_sum, subarray = largest_sum_subarray(arr)\n",
    "print(\"Max Sum:\", max_sum)      # Output: 6\n",
    "print(\"Subarray:\", subarray) \n",
    "\n",
    "# TC: O(n)\n",
    "# SC: O(1)"
   ]
  },
  {
   "cell_type": "markdown",
   "id": "cdc0a77c",
   "metadata": {},
   "source": [
    "#### Subarray with given sum "
   ]
  },
  {
   "cell_type": "code",
   "execution_count": null,
   "id": "dea0358d",
   "metadata": {},
   "outputs": [
    {
     "name": "stdout",
     "output_type": "stream",
     "text": [
      "[3, 7, 5]\n"
     ]
    }
   ],
   "source": [
    "def subarray_with_sum(arr, target):\n",
    "    n = len(arr)\n",
    "    start = 0\n",
    "    current_sum = 0\n",
    "    for end in range(n):\n",
    "        current_sum += arr[end]\n",
    "        \n",
    "        while current_sum > target and start <= end:\n",
    "            current_sum -= arr[start]\n",
    "            start += 1\n",
    "\n",
    "        if current_sum == target:\n",
    "            return arr[start:end+1]\n",
    "    return None\n",
    "\n",
    "# Example\n",
    "arr = [1, 2, 3, 7, 5]\n",
    "target = 15\n",
    "print(subarray_with_sum(arr, target))                                  \n",
    "\n",
    "# TC = O(n)\n",
    "# SC = O(1)"
   ]
  },
  {
   "cell_type": "markdown",
   "id": "0212837a",
   "metadata": {},
   "source": [
    "#### Diagonal sumof the matrix"
   ]
  },
  {
   "cell_type": "code",
   "execution_count": null,
   "id": "1ac7e9e7",
   "metadata": {},
   "outputs": [
    {
     "name": "stdout",
     "output_type": "stream",
     "text": [
      "25\n"
     ]
    }
   ],
   "source": [
    "def diagonal_sum(mat):\n",
    "    n = len(mat)\n",
    "    total = 0\n",
    "\n",
    "    for i in range(n):\n",
    "        total += mat[i][i]\n",
    "        total += mat[i][n-1-i]\n",
    "\n",
    "    if n%2 == 1:\n",
    "        total -= mat[n//2][n//2]\n",
    "    return total\n",
    "\n",
    "mat = [\n",
    "    [1,2,3],\n",
    "    [4,5,6],\n",
    "    [7,8,9]\n",
    "]\n",
    "print(diagonal_sum(mat))\n",
    "\n",
    "# TC = O(n)\n",
    "# SC = O(1)"
   ]
  }
 ],
 "metadata": {
  "kernelspec": {
   "display_name": "Python 3",
   "language": "python",
   "name": "python3"
  },
  "language_info": {
   "codemirror_mode": {
    "name": "ipython",
    "version": 3
   },
   "file_extension": ".py",
   "mimetype": "text/x-python",
   "name": "python",
   "nbconvert_exporter": "python",
   "pygments_lexer": "ipython3",
   "version": "3.11.8"
  }
 },
 "nbformat": 4,
 "nbformat_minor": 5
}
