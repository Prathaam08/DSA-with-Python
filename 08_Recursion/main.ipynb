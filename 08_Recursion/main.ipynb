{
 "cells": [
  {
   "cell_type": "markdown",
   "id": "8e9e1fb3",
   "metadata": {},
   "source": [
    "### Print name 4 times ( Head Recursion)"
   ]
  },
  {
   "cell_type": "code",
   "execution_count": 8,
   "id": "ca3e51b9",
   "metadata": {},
   "outputs": [
    {
     "name": "stdout",
     "output_type": "stream",
     "text": [
      "pratham\n",
      "pratham\n",
      "pratham\n",
      "pratham\n"
     ]
    }
   ],
   "source": [
    "count = 0\n",
    "def name():\n",
    "    global count\n",
    "    if count == 4:\n",
    "        return\n",
    "    print('pratham')\n",
    "    count += 1\n",
    "    name()\n",
    "\n",
    "name()"
   ]
  },
  {
   "cell_type": "markdown",
   "id": "a812c66a",
   "metadata": {},
   "source": [
    "### Tail Recursion"
   ]
  },
  {
   "cell_type": "code",
   "execution_count": null,
   "id": "b3ee460a",
   "metadata": {},
   "outputs": [
    {
     "name": "stdout",
     "output_type": "stream",
     "text": [
      "Pratham\n",
      "Pratham\n",
      "Pratham\n",
      "Pratham\n"
     ]
    }
   ],
   "source": [
    "def tail(count=0):\n",
    "    if count == 4:\n",
    "        return\n",
    "    tail(count+1)\n",
    "    print('Pratham')\n",
    "tail()  \n",
    "\n",
    "'''\n",
    "For both\n",
    "TC : o(n)\n",
    "SC : o(n)\n",
    "'''"
   ]
  },
  {
   "cell_type": "markdown",
   "id": "79981d84",
   "metadata": {},
   "source": [
    "### Recursion using Parameter"
   ]
  },
  {
   "cell_type": "code",
   "execution_count": 14,
   "id": "697e8269",
   "metadata": {},
   "outputs": [
    {
     "name": "stdout",
     "output_type": "stream",
     "text": [
      "15\n",
      "15\n",
      "15\n",
      "15\n",
      "15\n"
     ]
    }
   ],
   "source": [
    "def func(x , n):\n",
    "    if n == 0:\n",
    "        return\n",
    "    print(x)\n",
    "    func(x , n-1)\n",
    "func(15 , 5)"
   ]
  },
  {
   "cell_type": "markdown",
   "id": "9868c03f",
   "metadata": {},
   "source": [
    "### factorial \n"
   ]
  },
  {
   "cell_type": "code",
   "execution_count": null,
   "id": "038e555a",
   "metadata": {},
   "outputs": [
    {
     "name": "stdout",
     "output_type": "stream",
     "text": [
      "1\n"
     ]
    }
   ],
   "source": [
    "def fact(n):\n",
    "    if n<=1:\n",
    "        return 1\n",
    "    else:\n",
    "        return  n * fact(n-1)\n",
    "print(fact(0))\n",
    "\n",
    "# TC : o(n)\n",
    "# SC : o(n) ---> stack space"
   ]
  },
  {
   "cell_type": "markdown",
   "id": "a5859c89",
   "metadata": {},
   "source": [
    "### Reverse an array using Recursion"
   ]
  },
  {
   "cell_type": "code",
   "execution_count": null,
   "id": "d5a1ecc6",
   "metadata": {},
   "outputs": [
    {
     "name": "stdout",
     "output_type": "stream",
     "text": [
      "[1, 2, 7, 6, 5, 4, 3, 8, 9]\n"
     ]
    }
   ],
   "source": [
    "def func(arr , left ,right):\n",
    "    if left >= right:\n",
    "        return\n",
    "    arr[left] , arr[right] = arr[right] , arr[left]\n",
    "    func(arr , left+1 , right-1)\n",
    "\n",
    "arr = [1,2,3,4,5,6,7,8,9]\n",
    "func(arr , 2,len(arr)-3)\n",
    "print(arr)\n",
    "\n",
    "# 0(n) "
   ]
  },
  {
   "cell_type": "markdown",
   "id": "5ff1221b",
   "metadata": {},
   "source": [
    "### Check given string is palindrome"
   ]
  },
  {
   "cell_type": "code",
   "execution_count": 29,
   "id": "44fc0226",
   "metadata": {},
   "outputs": [
    {
     "name": "stdout",
     "output_type": "stream",
     "text": [
      "True\n"
     ]
    }
   ],
   "source": [
    "def is_palindrome(s,l,r):\n",
    "    if l >= r:\n",
    "        return True\n",
    "    if s[l] != s[r]:\n",
    "        return False\n",
    "    return is_palindrome(s , l+1,r-1)\n",
    "\n",
    "s = 'nitin'\n",
    "print(is_palindrome(s , 0 , len(s)-1))"
   ]
  }
 ],
 "metadata": {
  "kernelspec": {
   "display_name": "Python 3",
   "language": "python",
   "name": "python3"
  },
  "language_info": {
   "codemirror_mode": {
    "name": "ipython",
    "version": 3
   },
   "file_extension": ".py",
   "mimetype": "text/x-python",
   "name": "python",
   "nbconvert_exporter": "python",
   "pygments_lexer": "ipython3",
   "version": "3.11.8"
  }
 },
 "nbformat": 4,
 "nbformat_minor": 5
}
