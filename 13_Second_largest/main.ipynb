{
 "cells": [
  {
   "cell_type": "code",
   "execution_count": 4,
   "id": "612f5b43",
   "metadata": {},
   "outputs": [
    {
     "name": "stdout",
     "output_type": "stream",
     "text": [
      "22\n"
     ]
    }
   ],
   "source": [
    "def second_largest(arr):\n",
    "    if len(arr) < 2:\n",
    "        return None\n",
    "    first = second = float('-inf')\n",
    "    for num in arr:\n",
    "        if num > first:\n",
    "            second = first\n",
    "            first = num \n",
    "        elif first > num > second:\n",
    "            second = num \n",
    "    return second if second != float('-inf') else None\n",
    "print(second_largest([1,22,3,4,21,23]))\n",
    "\n",
    "# TC : 0(n)\n",
    "# SC : 0(1)\n"
   ]
  }
 ],
 "metadata": {
  "kernelspec": {
   "display_name": "Python 3",
   "language": "python",
   "name": "python3"
  },
  "language_info": {
   "codemirror_mode": {
    "name": "ipython",
    "version": 3
   },
   "file_extension": ".py",
   "mimetype": "text/x-python",
   "name": "python",
   "nbconvert_exporter": "python",
   "pygments_lexer": "ipython3",
   "version": "3.11.8"
  }
 },
 "nbformat": 4,
 "nbformat_minor": 5
}
