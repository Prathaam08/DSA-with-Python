{
 "cells": [
  {
   "cell_type": "markdown",
   "id": "fa0db306",
   "metadata": {},
   "source": [
    "### Selection Sort"
   ]
  },
  {
   "cell_type": "code",
   "execution_count": 5,
   "id": "ee3ffbb0",
   "metadata": {},
   "outputs": [
    {
     "name": "stdout",
     "output_type": "stream",
     "text": [
      "[1, 2, 3, 6, 7, 33, 45]\n"
     ]
    },
    {
     "data": {
      "text/plain": [
       "'\\nTC : 0(n^2)\\nSC : 0(1)\\n'"
      ]
     },
     "execution_count": 5,
     "metadata": {},
     "output_type": "execute_result"
    }
   ],
   "source": [
    "def selection_sort(arr):\n",
    "    n = len(arr)\n",
    "    for i in range(0,n):\n",
    "        min_idx = i \n",
    "        for j in range(i+1 , n):\n",
    "            if arr[j] < arr[min_idx]:\n",
    "                min_idx = j\n",
    "        arr[i] , arr[min_idx] = arr[min_idx] , arr[i]\n",
    "    return arr\n",
    "\n",
    "print(selection_sort([45,33,7,6,1,3,2]))\n",
    "\n",
    "'''\n",
    "TC : 0(n^2)\n",
    "SC : 0(1)\n",
    "'''\n"
   ]
  },
  {
   "cell_type": "markdown",
   "id": "39b5bd28",
   "metadata": {},
   "source": [
    "### Bubble Sort (Adjacent swap)"
   ]
  },
  {
   "cell_type": "code",
   "execution_count": null,
   "id": "1705da17",
   "metadata": {},
   "outputs": [
    {
     "name": "stdout",
     "output_type": "stream",
     "text": [
      "[1, 3, 4, 7, 8, 22, 45]\n"
     ]
    },
    {
     "data": {
      "text/plain": [
       "'\\nAvg/worst case : 0(n^2)\\nSC : 0(1)\\n'"
      ]
     },
     "execution_count": 51,
     "metadata": {},
     "output_type": "execute_result"
    }
   ],
   "source": [
    "def bubble_sort(arr):\n",
    "    n = len(arr)\n",
    "    for i in range(n-2 , -1 , -1):\n",
    "        is_swap = False\n",
    "        for j in range(0 , i+1):\n",
    "            if arr[j] > arr[j+1]:\n",
    "                arr[j] ,arr[j+1] = arr[j+1],arr[j]\n",
    "                is_swap = True\n",
    "        if is_swap == False:\n",
    "            break\n",
    "    return arr\n",
    "\n",
    "print(bubble_sort([45, 22, 1, 4, 3, 8, 7]))\n",
    "\n",
    "'''\n",
    "Avg/worst case : 0(n^2)\n",
    "SC : 0(1)\n",
    "Best case : 0(n)\n",
    "'''\n"
   ]
  }
 ],
 "metadata": {
  "kernelspec": {
   "display_name": "Python 3",
   "language": "python",
   "name": "python3"
  },
  "language_info": {
   "codemirror_mode": {
    "name": "ipython",
    "version": 3
   },
   "file_extension": ".py",
   "mimetype": "text/x-python",
   "name": "python",
   "nbconvert_exporter": "python",
   "pygments_lexer": "ipython3",
   "version": "3.11.8"
  }
 },
 "nbformat": 4,
 "nbformat_minor": 5
}
