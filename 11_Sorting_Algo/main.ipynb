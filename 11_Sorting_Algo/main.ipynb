{
 "cells": [
  {
   "cell_type": "markdown",
   "id": "fa0db306",
   "metadata": {},
   "source": [
    "### Selection Sort"
   ]
  },
  {
   "cell_type": "code",
   "execution_count": 5,
   "id": "ee3ffbb0",
   "metadata": {},
   "outputs": [
    {
     "name": "stdout",
     "output_type": "stream",
     "text": [
      "[1, 2, 3, 6, 7, 33, 45]\n"
     ]
    },
    {
     "data": {
      "text/plain": [
       "'\\nTC : 0(n^2)\\nSC : 0(1)\\n'"
      ]
     },
     "execution_count": 5,
     "metadata": {},
     "output_type": "execute_result"
    }
   ],
   "source": [
    "def selection_sort(arr):\n",
    "    n = len(arr)\n",
    "    for i in range(0,n):\n",
    "        min_idx = i \n",
    "        for j in range(i+1 , n):\n",
    "            if arr[j] < arr[min_idx]:\n",
    "                min_idx = j\n",
    "        arr[i] , arr[min_idx] = arr[min_idx] , arr[i]\n",
    "    return arr\n",
    "\n",
    "print(selection_sort([45,33,7,6,1,3,2]))\n",
    "\n",
    "'''\n",
    "TC : 0(n^2)\n",
    "SC : 0(1)\n",
    "'''\n"
   ]
  },
  {
   "cell_type": "markdown",
   "id": "39b5bd28",
   "metadata": {},
   "source": [
    "### Bubble Sort (Adjacent swap)"
   ]
  },
  {
   "cell_type": "code",
   "execution_count": null,
   "id": "1705da17",
   "metadata": {},
   "outputs": [
    {
     "name": "stdout",
     "output_type": "stream",
     "text": [
      "[1, 3, 4, 7, 8, 22, 45]\n"
     ]
    },
    {
     "data": {
      "text/plain": [
       "'\\nAvg/worst case : 0(n^2)\\nSC : 0(1)\\n'"
      ]
     },
     "execution_count": 51,
     "metadata": {},
     "output_type": "execute_result"
    }
   ],
   "source": [
    "def bubble_sort(arr):\n",
    "    n = len(arr)\n",
    "    for i in range(n-2 , -1 , -1):\n",
    "        is_swap = False\n",
    "        for j in range(0 , i+1):\n",
    "            if arr[j] > arr[j+1]:\n",
    "                arr[j] ,arr[j+1] = arr[j+1],arr[j]\n",
    "                is_swap = True\n",
    "        if is_swap == False:\n",
    "            break\n",
    "    return arr\n",
    "\n",
    "print(bubble_sort([45, 22, 1, 4, 3, 8, 7]))\n",
    "\n",
    "'''\n",
    "Avg/worst case : 0(n^2)\n",
    "SC : 0(1)\n",
    "Best case : 0(n)\n",
    "'''\n"
   ]
  },
  {
   "cell_type": "markdown",
   "id": "4110e34f",
   "metadata": {},
   "source": [
    "### Insertion Sort"
   ]
  },
  {
   "cell_type": "code",
   "execution_count": null,
   "id": "cd8eb41b",
   "metadata": {},
   "outputs": [
    {
     "name": "stdout",
     "output_type": "stream",
     "text": [
      "[1, 2, 4, 5, 6, 7, 10, 12, 13]\n"
     ]
    }
   ],
   "source": [
    "def insertion_sort(arr):\n",
    "    n = len(arr)\n",
    "    for i in range(n):\n",
    "        key = arr[i]\n",
    "        j = i-1\n",
    "        while j>=0 and arr[j]>key:\n",
    "            arr[j+1] = arr[j]\n",
    "            j -= 1\n",
    "        arr[j+1] = key\n",
    "    return arr\n",
    "print(insertion_sort([1,4,2,5,10,6,7,12,13]))\n",
    "\n",
    "'''\n",
    "TC : 0(n^2)\n",
    "SC : 0(1\n",
    ")'''"
   ]
  },
  {
   "cell_type": "markdown",
   "id": "a895a261",
   "metadata": {},
   "source": [
    "### Merge Sort (divide and merge)"
   ]
  },
  {
   "cell_type": "markdown",
   "id": "136f907c",
   "metadata": {},
   "source": [
    "#### Merge two sorted array"
   ]
  },
  {
   "cell_type": "code",
   "execution_count": 9,
   "id": "9d09c965",
   "metadata": {},
   "outputs": [
    {
     "name": "stdout",
     "output_type": "stream",
     "text": [
      "[1, 1, 1, 2, 2, 2, 3, 4, 4, 5, 6, 6]\n"
     ]
    }
   ],
   "source": [
    "def merge_sorted_arr(arr1,arr2):\n",
    "    result = []\n",
    "    i,j = 0,0\n",
    "    n,m = len(arr1),len(arr2)\n",
    "    while i<n and j<m:\n",
    "        if arr1[i] <= arr2[j]:\n",
    "            result.append(arr1[i])\n",
    "            i += 1\n",
    "        else:\n",
    "            result.append(arr2[j]) \n",
    "            j += 1\n",
    "    if i < n:\n",
    "        while i<n:\n",
    "            result.append(arr1[i])\n",
    "            i += 1\n",
    "    if j < m:\n",
    "        while j<m:\n",
    "            result.append(arr2[j])\n",
    "            j += 1\n",
    "    return result\n",
    "\n",
    "print(merge_sorted_arr([1,1,2,3,4] , [1,2,2,4,5,6,6]))"
   ]
  },
  {
   "cell_type": "code",
   "execution_count": null,
   "id": "44af392c",
   "metadata": {},
   "outputs": [
    {
     "name": "stdout",
     "output_type": "stream",
     "text": [
      "[1, 2, 3, 3, 6, 7, 8, 9, 10]\n"
     ]
    }
   ],
   "source": [
    "def merge_sort(arr):\n",
    "    if len(arr) <= 1:\n",
    "        return arr\n",
    "    mid = len(arr) // 2\n",
    "    left_arr = arr[:mid]\n",
    "    right_arr = arr[mid:]\n",
    "    left_sorted = merge_sort(left_arr)\n",
    "    right_sorted = merge_sort(right_arr)\n",
    "    return merge_sorted_arr(left_sorted,right_sorted)\n",
    "\n",
    "print(merge_sort([3,8,2,6,7,1,9,10,3]))\n",
    "    \n",
    "'''\n",
    "TC : 0(nlogn)\n",
    "SC : 0(n)\n",
    "'''"
   ]
  },
  {
   "cell_type": "markdown",
   "id": "3c3038d5",
   "metadata": {},
   "source": [
    "### Quick Sort (divide and conquer)"
   ]
  },
  {
   "cell_type": "code",
   "execution_count": 14,
   "id": "eb2aea23",
   "metadata": {},
   "outputs": [
    {
     "name": "stdout",
     "output_type": "stream",
     "text": [
      "[1, 2, 2, 3, 4, 5, 8, 9, 10]\n"
     ]
    }
   ],
   "source": [
    "def quick_sort(arr):\n",
    "    if len(arr)<2:\n",
    "        return arr\n",
    "    pivot = arr[len(arr)//2]\n",
    "    left = [x for x in arr if x < pivot]\n",
    "    middle = [x for x in arr if x == pivot]\n",
    "    right = [x for x in arr if x > pivot]\n",
    "    return quick_sort(left) + middle + quick_sort(right)\n",
    "\n",
    "print(quick_sort([10,3,1,5,2,8,4,2,9]))"
   ]
  }
 ],
 "metadata": {
  "kernelspec": {
   "display_name": "Python 3",
   "language": "python",
   "name": "python3"
  },
  "language_info": {
   "codemirror_mode": {
    "name": "ipython",
    "version": 3
   },
   "file_extension": ".py",
   "mimetype": "text/x-python",
   "name": "python",
   "nbconvert_exporter": "python",
   "pygments_lexer": "ipython3",
   "version": "3.11.8"
  }
 },
 "nbformat": 4,
 "nbformat_minor": 5
}
