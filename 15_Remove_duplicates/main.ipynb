{
 "cells": [
  {
   "cell_type": "markdown",
   "id": "ec4f0654",
   "metadata": {},
   "source": [
    "### Remove Duplicates from sorted array inplace"
   ]
  },
  {
   "cell_type": "code",
   "execution_count": null,
   "id": "b2844a2f",
   "metadata": {},
   "outputs": [
    {
     "name": "stdout",
     "output_type": "stream",
     "text": [
      "6\n"
     ]
    }
   ],
   "source": [
    "def remove_dupli(arr):\n",
    "    n = len(arr)\n",
    "    freq_map = {}\n",
    "    \n",
    "    for i in range(0,n):\n",
    "        freq_map[arr[i]] = 0\n",
    "    j = 0\n",
    "    for key in freq_map:\n",
    "        arr[j] = key\n",
    "        j += 1\n",
    "    return j\n",
    "print(remove_dupli([1,1,1,2,2,3,3,4,5,6,6,6]))\n",
    "\n",
    "# TC : 0(n)\n",
    "# SC : 0(n)"
   ]
  },
  {
   "cell_type": "code",
   "execution_count": null,
   "id": "8405c01e",
   "metadata": {},
   "outputs": [
    {
     "name": "stdout",
     "output_type": "stream",
     "text": [
      "9\n"
     ]
    }
   ],
   "source": [
    "# Optimal Solution\n",
    "\n",
    "def func(arr):\n",
    "    n = len(arr)\n",
    "    if n == 1:\n",
    "        return 1\n",
    "    i = 0\n",
    "    j = i+1\n",
    "    while j<n:\n",
    "        if arr[j] != arr[i]:\n",
    "            i = i+1\n",
    "            arr[i] = arr[j]\n",
    "        j +=1\n",
    "    return i+1\n",
    "print(func([1,1,1,2,2,2,3,3,3,4,5,6,7,8,8,9,9]))\n",
    "\n",
    "# TC : 0(n)\n",
    "# SC : 0(1)"
   ]
  }
 ],
 "metadata": {
  "kernelspec": {
   "display_name": "Python 3",
   "language": "python",
   "name": "python3"
  },
  "language_info": {
   "codemirror_mode": {
    "name": "ipython",
    "version": 3
   },
   "file_extension": ".py",
   "mimetype": "text/x-python",
   "name": "python",
   "nbconvert_exporter": "python",
   "pygments_lexer": "ipython3",
   "version": "3.11.8"
  }
 },
 "nbformat": 4,
 "nbformat_minor": 5
}
