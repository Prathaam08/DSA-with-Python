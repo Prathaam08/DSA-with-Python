{
 "cells": [
  {
   "cell_type": "code",
   "execution_count": null,
   "id": "f19583dc",
   "metadata": {},
   "outputs": [
    {
     "name": "stdout",
     "output_type": "stream",
     "text": [
      "56\n"
     ]
    }
   ],
   "source": [
    "def largest_num(arr):\n",
    "    if not arr:\n",
    "        return None\n",
    "    first = arr[0]\n",
    "    for num in arr:\n",
    "        if num > first:\n",
    "            first = num \n",
    "    return first\n",
    "print(largest_num([12,33,24,56,32]))\n",
    "\n",
    "# TC : 0(n)\n",
    "# SC : 0(1)"
   ]
  }
 ],
 "metadata": {
  "kernelspec": {
   "display_name": "Python 3",
   "language": "python",
   "name": "python3"
  },
  "language_info": {
   "codemirror_mode": {
    "name": "ipython",
    "version": 3
   },
   "file_extension": ".py",
   "mimetype": "text/x-python",
   "name": "python",
   "nbconvert_exporter": "python",
   "pygments_lexer": "ipython3",
   "version": "3.11.8"
  }
 },
 "nbformat": 4,
 "nbformat_minor": 5
}
