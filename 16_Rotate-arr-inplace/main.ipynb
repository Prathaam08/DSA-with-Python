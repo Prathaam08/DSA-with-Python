{
 "cells": [
  {
   "cell_type": "markdown",
   "id": "be3fc27f",
   "metadata": {},
   "source": [
    "### Using Slicing"
   ]
  },
  {
   "cell_type": "code",
   "execution_count": null,
   "id": "71165bff",
   "metadata": {},
   "outputs": [
    {
     "name": "stdout",
     "output_type": "stream",
     "text": [
      "[10, 1, 2, 3, 4, 5]\n"
     ]
    }
   ],
   "source": [
    "def rotate_slicing(arr):\n",
    "     arr[:] = arr[-1:] + arr[:-1]\n",
    "     \n",
    "arr = [1,2,3,4,5,10]\n",
    "rotate_slicing(arr)\n",
    "print(arr)\n",
    "\n",
    "# TC : 0(n)\n",
    "# sc : 0(n)"
   ]
  },
  {
   "cell_type": "markdown",
   "id": "91dabdc2",
   "metadata": {},
   "source": [
    "### Using Loop"
   ]
  },
  {
   "cell_type": "code",
   "execution_count": null,
   "id": "ab9b857b",
   "metadata": {},
   "outputs": [
    {
     "name": "stdout",
     "output_type": "stream",
     "text": [
      "[10, 1, 2, 3, 4]\n"
     ]
    }
   ],
   "source": [
    "def rotate_loop(arr):\n",
    "    n = len(arr)\n",
    "    temp = arr[-1]\n",
    "    for i in range(n-2,-1,-1):\n",
    "        arr[i+1] = arr[i]\n",
    "    arr[0] = temp\n",
    "\n",
    "arr = [1,2,3,4,10]\n",
    "rotate_loop(arr)\n",
    "print(arr)\n",
    "\n",
    "# TC : 0(n)\n",
    "# SC : 0(1)\n"
   ]
  },
  {
   "cell_type": "markdown",
   "id": "b37db97b",
   "metadata": {},
   "source": [
    "## Rotate array by k place"
   ]
  },
  {
   "cell_type": "code",
   "execution_count": null,
   "id": "cdb1f655",
   "metadata": {},
   "outputs": [
    {
     "name": "stdout",
     "output_type": "stream",
     "text": [
      "[4, 5, 10, 1, 2, 3]\n"
     ]
    }
   ],
   "source": [
    "def rotate(arr):\n",
    "    n = len(arr)\n",
    "    k = 3\n",
    "    rotations = k % n\n",
    "    for _ in range(0,rotations):\n",
    "        e = arr.pop()\n",
    "        arr.insert(0,e)\n",
    "\n",
    "arr = [1,2,3,4,5,10]\n",
    "rotate(arr)\n",
    "print(arr)\n",
    "\n",
    "# TC : 0(r * n)\n",
    "# SC : 0(1)"
   ]
  },
  {
   "cell_type": "markdown",
   "id": "78418e21",
   "metadata": {},
   "source": [
    "### optimal solution (slicing)"
   ]
  },
  {
   "cell_type": "code",
   "execution_count": 1,
   "id": "08e5c3bc",
   "metadata": {},
   "outputs": [
    {
     "name": "stdout",
     "output_type": "stream",
     "text": [
      "[4, 5, 10, 1, 2, 3]\n"
     ]
    }
   ],
   "source": [
    "def func(arr):\n",
    "    n = len(arr)\n",
    "    k = 3\n",
    "    rotation = k % n\n",
    "    arr[:] = arr[n-rotation:] + arr[:n-rotation]\n",
    "arr = [1,2,3,4,5,10]\n",
    "func(arr)\n",
    "print(arr)\n",
    "\n",
    "# TC : 0(n)\n",
    "# SC : 0(1)"
   ]
  }
 ],
 "metadata": {
  "kernelspec": {
   "display_name": "Python 3",
   "language": "python",
   "name": "python3"
  },
  "language_info": {
   "codemirror_mode": {
    "name": "ipython",
    "version": 3
   },
   "file_extension": ".py",
   "mimetype": "text/x-python",
   "name": "python",
   "nbconvert_exporter": "python",
   "pygments_lexer": "ipython3",
   "version": "3.11.8"
  }
 },
 "nbformat": 4,
 "nbformat_minor": 5
}
